{
 "metadata": {
  "language_info": {
   "codemirror_mode": {
    "name": "ipython",
    "version": 3
   },
   "file_extension": ".py",
   "mimetype": "text/x-python",
   "name": "python",
   "nbconvert_exporter": "python",
   "pygments_lexer": "ipython3",
   "version": "3.8.5"
  },
  "orig_nbformat": 2,
  "kernelspec": {
   "name": "python3",
   "display_name": "Python 3.8.5 64-bit ('base': conda)",
   "metadata": {
    "interpreter": {
     "hash": "b3ba2566441a7c06988d0923437866b63cedc61552a5af99d1f4fb67d367b25f"
    }
   }
  }
 },
 "nbformat": 4,
 "nbformat_minor": 2,
 "cells": [
  {
   "cell_type": "code",
   "execution_count": 1,
   "metadata": {},
   "outputs": [],
   "source": [
    "from nltk.stem.wordnet import WordNetLemmatizer\n",
    "from nltk.corpus import twitter_samples, stopwords\n",
    "from nltk.tag import pos_tag\n",
    "from nltk.tokenize import word_tokenize\n",
    "from nltk import FreqDist, classify, NaiveBayesClassifier\n",
    "import re, string, random"
   ]
  },
  {
   "cell_type": "code",
   "execution_count": 2,
   "metadata": {},
   "outputs": [],
   "source": [
    "def remove_noise(twitterTokens, stop_words = ()):\n",
    "    cleaned_tokens = []\n",
    "    for token, tag in pos_tag(twitterTokens):\n",
    "        token = re.sub('http[s]?://(?:[a-zA-Z]|[0-9]|[$-_@.&+#]|[!*\\(\\),]|'\\\n",
    "                       '(?:%[0-9a-fA-F][0-9a-fA-F]))+','', token)\n",
    "        token = re.sub(\"(@[A-Za-z0-9_]+)\",\"\", token)\n",
    "        if tag.startswith(\"NN\"):\n",
    "            pos = 'n'\n",
    "        elif tag.startswith('VB'):\n",
    "            pos = 'v'\n",
    "        else:\n",
    "            pos = 'a'\n",
    "        lemmatizer = WordNetLemmatizer()\n",
    "        token = lemmatizer.lemmatize(token, pos)\n",
    "        if len(token) > 0 and token not in string.punctuation and token.lower() not in stop_words:\n",
    "            cleaned_tokens.append(token.lower())\n",
    "    return cleaned_tokens"
   ]
  },
  {
   "cell_type": "code",
   "execution_count": 3,
   "metadata": {},
   "outputs": [],
   "source": [
    "def get_all_words(cleaned_tokens_list):\n",
    "    for tokens in cleaned_tokens_list:\n",
    "        for token in tokens:\n",
    "            yield token"
   ]
  },
  {
   "cell_type": "code",
   "execution_count": 4,
   "metadata": {},
   "outputs": [],
   "source": [
    "def get_tweets_for_model(cleaned_tokens_list):\n",
    "    for tweet_tokens in cleaned_tokens_list:\n",
    "        yield dict([token, True] for token in tweet_tokens)"
   ]
  },
  {
   "cell_type": "code",
   "execution_count": 5,
   "metadata": {},
   "outputs": [],
   "source": [
    "positiveTweets = twitter_samples.strings('positive_tweets.json')\n",
    "negativeTweets = twitter_samples.strings('negative_tweets.json')"
   ]
  },
  {
   "cell_type": "code",
   "execution_count": 6,
   "metadata": {},
   "outputs": [],
   "source": [
    "stop_words = stopwords.words('english')\n",
    "positiveTokens = twitter_samples.tokenized('positive_tweets.json')\n",
    "negativeTokens = twitter_samples.tokenized('negative_tweets.json')"
   ]
  },
  {
   "cell_type": "code",
   "execution_count": 7,
   "metadata": {},
   "outputs": [],
   "source": [
    "positiveCleanedTokens = []\n",
    "negativeCleanedTokens = []\n",
    "for tokens in positiveTokens:\n",
    "    positiveCleanedTokens.append(remove_noise(tokens, stop_words))\n",
    "for tokens in negativeTokens:\n",
    "    negativeCleanedTokens.append(remove_noise(tokens, stop_words))"
   ]
  },
  {
   "cell_type": "code",
   "execution_count": 8,
   "metadata": {},
   "outputs": [],
   "source": [
    "positiveTokensModel = get_tweets_for_model(positiveCleanedTokens)\n",
    "negativeTokensModel = get_tweets_for_model(negativeCleanedTokens)"
   ]
  },
  {
   "cell_type": "code",
   "execution_count": 9,
   "metadata": {},
   "outputs": [],
   "source": [
    "positiveDataset = [(tweet_dict, \"Positive\") for tweet_dict in positiveTokensModel]\n",
    "negativeDataset = [(tweet_dict, \"Negative\") for tweet_dict in negativeTokensModel]"
   ]
  },
  {
   "cell_type": "code",
   "execution_count": 10,
   "metadata": {},
   "outputs": [
    {
     "output_type": "stream",
     "name": "stdout",
     "text": [
      "Accuracy is: 0.9973333333333333\nMost Informative Features\n                      :( = True           Negati : Positi =   2066.4 : 1.0\n                      :) = True           Positi : Negati =    982.4 : 1.0\n                follower = True           Positi : Negati =     40.2 : 1.0\n                     sad = True           Negati : Positi =     32.3 : 1.0\n                 awesome = True           Positi : Negati =     20.3 : 1.0\n                    poor = True           Negati : Positi =     19.7 : 1.0\n                     bam = True           Positi : Negati =     18.3 : 1.0\n               community = True           Positi : Negati =     16.3 : 1.0\n                     x15 = True           Negati : Positi =     15.7 : 1.0\n              appreciate = True           Positi : Negati =     15.0 : 1.0\nNone\n"
     ]
    }
   ],
   "source": [
    "dataset = positiveDataset + negativeDataset\n",
    "random.shuffle(dataset)\n",
    "train_data = dataset[:7000]\n",
    "test_data = dataset[7000:]\n",
    "classifier = NaiveBayesClassifier.train(train_data)\n",
    "print(\"Accuracy is:\", classify.accuracy(classifier, test_data))\n",
    "print(classifier.show_most_informative_features(10))"
   ]
  },
  {
   "cell_type": "code",
   "execution_count": 11,
   "metadata": {},
   "outputs": [
    {
     "output_type": "stream",
     "name": "stdout",
     "text": [
      "Worst stock I ever purchased\n Analysis: Negative\n"
     ]
    }
   ],
   "source": [
    "customTweet = \"Worst stock I ever purchased\" #add any sentence to check for positive or negative\n",
    "customTokens = remove_noise(word_tokenize(customTweet))\n",
    "print(customTweet)\n",
    "print(\" Analysis:\",classifier.classify(dict([token, True] for token in customTokens)))"
   ]
  }
 ]
}